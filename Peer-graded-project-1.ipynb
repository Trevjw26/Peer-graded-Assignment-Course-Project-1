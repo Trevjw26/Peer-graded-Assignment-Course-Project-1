{
  "nbformat": 4,
  "nbformat_minor": 0,
  "metadata": {
    "colab": {
      "name": "Untitled7.ipynb",
      "provenance": [],
      "authorship_tag": "ABX9TyPtRzhOfsv2GQ66hYpATibC"
    },
    "kernelspec": {
      "name": "ir",
      "display_name": "R"
    },
    "language_info": {
      "name": "R"
    }
  },
  "cells": [
    {
      "cell_type": "code",
      "execution_count": 1,
      "metadata": {
        "id": "QBrywgvQP6BV"
      },
      "outputs": [],
      "source": [
        "temp <- tempfile()\n",
        "download.file(\"https://d396qusza40orc.cloudfront.net/exdata%2Fdata%2Fhousehold_power_consumption.zip\",temp)\n",
        "power <- read.table(unz(temp,\"household_power_consumption.txt\"), \n",
        "                    sep=\";\", \n",
        "                    header = T, \n",
        "                    na=\"?\", \n",
        "                    colClasses = c(\"character\",\n",
        "                                   'character',\n",
        "                                   'numeric',\n",
        "                                   'numeric',\n",
        "                                   'numeric',\n",
        "                                   'numeric',\n",
        "                                   'numeric',\n",
        "                                   'numeric',\n",
        "                                   'numeric'))\n",
        "\n",
        "unlink(temp)\n",
        "power <- power[which(power$Date == '2/2/2007' | power$Date=='1/2/2007'),]\n",
        "\n",
        "power$POSIX <-as.POSIXlt.character(paste(power$Date,power$Time),format = \"%d/%m/%Y %H:%M:%S\")"
      ]
    },
    {
      "cell_type": "code",
      "source": [
        "#plot.1\n",
        "png(filename=\"plot1.png\",width=480, height=480)\n",
        "hist(power$Global_active_power, col = 'red', main = 'Global Active Power', xlab = 'Global Active Power (kilowatts)')\n",
        "dev.off()"
      ],
      "metadata": {
        "colab": {
          "base_uri": "https://localhost:8080/",
          "height": 34
        },
        "id": "gqemopJxP9Xu",
        "outputId": "dcd02ccf-5d39-4200-c84e-9ded079b5d6f"
      },
      "execution_count": 2,
      "outputs": [
        {
          "output_type": "display_data",
          "data": {
            "text/plain": [
              "png \n",
              "  2 "
            ],
            "text/latex": "\\textbf{png:} 2",
            "text/markdown": "**png:** 2",
            "text/html": [
              "<strong>png:</strong> 2"
            ]
          },
          "metadata": {}
        }
      ]
    },
    {
      "cell_type": "code",
      "source": [
        ""
      ],
      "metadata": {
        "id": "adQuncfmP8om"
      },
      "execution_count": null,
      "outputs": []
    },
    {
      "cell_type": "code",
      "source": [
        ""
      ],
      "metadata": {
        "id": "_Ch_XvimP8rw"
      },
      "execution_count": null,
      "outputs": []
    },
    {
      "cell_type": "code",
      "source": [
        ""
      ],
      "metadata": {
        "id": "yiIu6NIuP8va"
      },
      "execution_count": null,
      "outputs": []
    },
    {
      "cell_type": "code",
      "source": [
        ""
      ],
      "metadata": {
        "id": "6NsS869sP8zW"
      },
      "execution_count": null,
      "outputs": []
    },
    {
      "cell_type": "code",
      "source": [
        ""
      ],
      "metadata": {
        "id": "IQ4SkHILP82f"
      },
      "execution_count": null,
      "outputs": []
    }
  ]
}