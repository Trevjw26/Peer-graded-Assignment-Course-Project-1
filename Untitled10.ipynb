{
  "nbformat": 4,
  "nbformat_minor": 0,
  "metadata": {
    "colab": {
      "name": "Untitled10.ipynb",
      "provenance": [],
      "authorship_tag": "ABX9TyPX6q9SyUdxf5ugMelSw5iB",
      "include_colab_link": true
    },
    "kernelspec": {
      "name": "ir",
      "display_name": "R"
    },
    "language_info": {
      "name": "R"
    }
  },
  "cells": [
    {
      "cell_type": "markdown",
      "metadata": {
        "id": "view-in-github",
        "colab_type": "text"
      },
      "source": [
        "<a href=\"https://colab.research.google.com/github/Trevjw26/Peer-graded-Assignment-Course-Project-1/blob/main/Untitled10.ipynb\" target=\"_parent\"><img src=\"https://colab.research.google.com/assets/colab-badge.svg\" alt=\"Open In Colab\"/></a>"
      ]
    },
    {
      "cell_type": "code",
      "source": [
        "temp <- tempfile()\n",
        "download.file(\"https://d396qusza40orc.cloudfront.net/exdata%2Fdata%2Fhousehold_power_consumption.zip\",temp)\n",
        "power <- read.table(unz(temp,\"household_power_consumption.txt\"), \n",
        "                    sep=\";\", \n",
        "                    header = T, \n",
        "                    na=\"?\", \n",
        "                    colClasses = c(\"character\",\n",
        "                                   'character',\n",
        "                                   'numeric',\n",
        "                                   'numeric',\n",
        "                                   'numeric',\n",
        "                                   'numeric',\n",
        "                                   'numeric',\n",
        "                                   'numeric',\n",
        "                                   'numeric'))\n",
        "\n",
        "unlink(temp)\n",
        "power <- power[which(power$Date == '2/2/2007' | power$Date=='1/2/2007'),]\n",
        "\n",
        "power$POSIX <-as.POSIXlt.character(paste(power$Date,power$Time),format = \"%d/%m/%Y %H:%M:%S\")"
      ],
      "metadata": {
        "id": "yROMAXMfaGa7"
      },
      "execution_count": 3,
      "outputs": []
    },
    {
      "cell_type": "code",
      "source": [
        "#plot.1\n",
        "png(filename=\"plot1.png\",width=480, height=480)\n",
        "hist(power$Global_active_power, col = 'red', main = 'Global Active Power', xlab = 'Global Active Power (kilowatts)')\n",
        "dev.off()"
      ],
      "metadata": {
        "colab": {
          "base_uri": "https://localhost:8080/",
          "height": 34
        },
        "id": "gbaE_ccMaGd9",
        "outputId": "7b7f4bd2-1b62-495f-8a43-8c8485fd0ce0"
      },
      "execution_count": 4,
      "outputs": [
        {
          "output_type": "display_data",
          "data": {
            "text/plain": [
              "png \n",
              "  2 "
            ],
            "text/latex": "\\textbf{png:} 2",
            "text/markdown": "**png:** 2",
            "text/html": [
              "<strong>png:</strong> 2"
            ]
          },
          "metadata": {}
        }
      ]
    },
    {
      "cell_type": "code",
      "source": [
        "#plot2\n",
        "png(filename=\"plot2.png\",width=480, height=480)\n",
        "plot(x=power$POSIX ,y=power$Global_active_power, type = 'l', xlab='',ylab = 'Global Active Power (kilowatts)')\n",
        "dev.off()"
      ],
      "metadata": {
        "colab": {
          "base_uri": "https://localhost:8080/",
          "height": 34
        },
        "id": "8xii0FhaaGhQ",
        "outputId": "c0080216-8508-4551-8130-d0a5f731cc95"
      },
      "execution_count": 5,
      "outputs": [
        {
          "output_type": "display_data",
          "data": {
            "text/plain": [
              "png \n",
              "  2 "
            ],
            "text/latex": "\\textbf{png:} 2",
            "text/markdown": "**png:** 2",
            "text/html": [
              "<strong>png:</strong> 2"
            ]
          },
          "metadata": {}
        }
      ]
    },
    {
      "cell_type": "code",
      "source": [
        "#plot3\n",
        "png(filename=\"plot3.png\",width=480, height=480)\n",
        "plot(x=power$POSIX,y=power$Sub_metering_1, type='l', col = 'black', ylab = 'Energy sub metering', xlab = '')\n",
        "lines(x=power$POSIX,y=power$Sub_metering_2, col='red')\n",
        "lines(x=power$POSIX,y=power$Sub_metering_3, col='blue')\n",
        "legend('topright', legend = c('Sub_metering_1',\"Sub_metering_2\",\"Sub_metering_3\"), col = c('black','red','blue'), lty = 1)\n",
        "dev.off()"
      ],
      "metadata": {
        "colab": {
          "base_uri": "https://localhost:8080/",
          "height": 34
        },
        "id": "naW36DyXaGkw",
        "outputId": "6c9f8841-79ae-423f-86e5-2ddc09216cd0"
      },
      "execution_count": 6,
      "outputs": [
        {
          "output_type": "display_data",
          "data": {
            "text/plain": [
              "png \n",
              "  2 "
            ],
            "text/latex": "\\textbf{png:} 2",
            "text/markdown": "**png:** 2",
            "text/html": [
              "<strong>png:</strong> 2"
            ]
          },
          "metadata": {}
        }
      ]
    },
    {
      "cell_type": "code",
      "source": [
        "#plot4\n",
        "png(filename=\"plot4.png\",width=480, height=480)\n",
        "par(mfrow=c(2,2))\n",
        "plot(x=power$POSIX ,y=power$Global_active_power, type = 'l', xlab='',ylab = 'Global Active Power')\n",
        "plot(x=power$POSIX ,y=power$Voltage, type = 'l', xlab='datetime',ylab = 'Voltage')\n",
        "plot(x=power$POSIX,y=power$Sub_metering_1, type='l', col = 'black', ylab = 'Energy sub metering', xlab = '')\n",
        "lines(x=power$POSIX,y=power$Sub_metering_2, col='red')\n",
        "lines(x=power$POSIX,y=power$Sub_metering_3, col='blue')\n",
        "legend('topright', legend = c('Sub_metering_1',\"Sub_metering_2\",\"Sub_metering_3\"), col = c('black','red','blue'), lty = 1, bty = \"n\")\n",
        "plot(x=power$POSIX ,y=power$Global_reactive_power, type = 'l', xlab='datetime',ylab = 'Global_reactive_power')\n",
        "dev.off()"
      ],
      "metadata": {
        "colab": {
          "base_uri": "https://localhost:8080/",
          "height": 34
        },
        "id": "WslR6KbVaGoM",
        "outputId": "b843855b-2477-47e1-8ed6-f6d7d26cf56a"
      },
      "execution_count": 7,
      "outputs": [
        {
          "output_type": "display_data",
          "data": {
            "text/plain": [
              "png \n",
              "  2 "
            ],
            "text/latex": "\\textbf{png:} 2",
            "text/markdown": "**png:** 2",
            "text/html": [
              "<strong>png:</strong> 2"
            ]
          },
          "metadata": {}
        }
      ]
    }
  ]
}